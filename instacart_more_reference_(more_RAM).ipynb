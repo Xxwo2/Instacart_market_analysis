{
  "nbformat": 4,
  "nbformat_minor": 0,
  "metadata": {
    "colab": {
      "name": "instacart - more reference (more RAM)",
      "provenance": [],
      "collapsed_sections": [],
      "machine_shape": "hm",
      "include_colab_link": true
    },
    "kernelspec": {
      "name": "python3",
      "display_name": "Python 3"
    }
  },
  "cells": [
    {
      "cell_type": "markdown",
      "metadata": {
        "id": "view-in-github",
        "colab_type": "text"
      },
      "source": [
        "<a href=\"https://colab.research.google.com/github/Xxwo2/Instacart_market_analysis/blob/main/instacart_more_reference_(more_RAM).ipynb\" target=\"_parent\"><img src=\"https://colab.research.google.com/assets/colab-badge.svg\" alt=\"Open In Colab\"/></a>"
      ]
    },
    {
      "cell_type": "markdown",
      "metadata": {
        "id": "8zTw-f-gDmb4"
      },
      "source": [
        "reference\n",
        "- light GBM benchmark 0.3692 (https://www.kaggle.com/paulantoine/light-gbm-benchmark-0-3692/code\n",
        "- Vishal-Mendekar/Instacart-Market-Basket-Analysis (https://github.com/Vishal-Mendekar/Instacart-Market-Basket-Analysis)\n",
        "\n",
        "\n",
        "Further work\n",
        "- understand how to optimize threshold, maybe from Faron's code\n",
        "- understand more on LightGBM\n",
        "- need more features from KazukiOnodera(2nd place) and more\n",
        "- interpret the analysis including feature importance...\n",
        "- learn the workflow such as the use of utils...\n",
        "- more to learn in Medium reading list & Kaggle bookmark\n",
        "\n",
        "more to learn \n",
        "- KazukiOnodera (https://github.com/KazukiOnodera/Instacart/tree/master/py_feature)\n",
        "- competition summary (https://www.kaggle.com/c/instacart-market-basket-analysis/discussion/38130)\n",
        "- metrics (https://www.zhihu.com/question/30643044)\n",
        "- classification threshold (https://developers.google.com/machine-learning/crash-course/classification/thresholding?hl=zh_cn)\n"
      ]
    },
    {
      "cell_type": "markdown",
      "metadata": {
        "id": "BPm_miu4Dc-o"
      },
      "source": [
        "\n",
        "\n",
        "\n",
        "# Load data"
      ]
    },
    {
      "cell_type": "code",
      "metadata": {
        "id": "tZRSiDYNQLSr",
        "colab": {
          "base_uri": "https://localhost:8080/"
        },
        "outputId": "f4c2370b-5079-47ba-c25f-087750f4fa4a"
      },
      "source": [
        "from google.colab import drive\n",
        "drive.mount('/content/drive')\n"
      ],
      "execution_count": 3,
      "outputs": [
        {
          "output_type": "stream",
          "text": [
            "Drive already mounted at /content/drive; to attempt to forcibly remount, call drive.mount(\"/content/drive\", force_remount=True).\n"
          ],
          "name": "stdout"
        }
      ]
    },
    {
      "cell_type": "code",
      "metadata": {
        "id": "87T5BetZQYQv",
        "colab": {
          "base_uri": "https://localhost:8080/"
        },
        "outputId": "b0dda45e-d7c1-4cab-9559-2237c8cd6412"
      },
      "source": [
        "import pandas as pd\n",
        "import numpy as np\n",
        "import lightgbm as lgb\n",
        "\n",
        "priors = pd.read_csv('/content/drive/MyDrive/instacart/order_products__prior.csv')\n",
        "train = pd.read_csv('/content/drive/MyDrive/instacart/order_products__train.csv')\n",
        "orders = pd.read_csv('/content/drive/MyDrive/instacart/orders.csv')\n",
        "products = pd.read_csv('/content/drive/MyDrive/instacart/products.csv')\n",
        "\n",
        "\n",
        "print('priors {}: {}'.format(priors.shape,','.join(priors.columns)))\n",
        "print('priors {}: {}'.format(orders.shape,','.join(orders.columns)))\n",
        "print('priors {}: {}'.format(train.shape,','.join(train.columns)))"
      ],
      "execution_count": 4,
      "outputs": [
        {
          "output_type": "stream",
          "text": [
            "priors (32434489, 4): order_id,product_id,add_to_cart_order,reordered\n",
            "priors (3421083, 7): order_id,user_id,eval_set,order_number,order_dow,order_hour_of_day,days_since_prior_order\n",
            "priors (1384617, 4): order_id,product_id,add_to_cart_order,reordered\n"
          ],
          "name": "stdout"
        }
      ]
    },
    {
      "cell_type": "code",
      "metadata": {
        "id": "YOckP_sYQcda"
      },
      "source": [
        "#computing product f\n",
        "\n",
        "prods = pd.DataFrame()\n",
        "prods['orders'] = priors.groupby(priors.product_id).size().astype(np.int32)\n",
        "prods['reorders'] = priors['reordered'].groupby(priors.product_id).sum().astype(np.float32)\n",
        "prods['reorder_rate'] = (prods.reorders/prods.orders).astype(np.float32)\n",
        "products = products.join(prods, on = 'product_id')\n",
        "products.set_index('product_id',drop = False, inplace = True)\n",
        "\n"
      ],
      "execution_count": 5,
      "outputs": []
    },
    {
      "cell_type": "code",
      "metadata": {
        "id": "b_Udryi-RDTJ"
      },
      "source": [
        "del prods"
      ],
      "execution_count": 6,
      "outputs": []
    },
    {
      "cell_type": "code",
      "metadata": {
        "id": "_F9FfyFSQl_5"
      },
      "source": [
        "orders.set_index('order_id', inplace = True, drop = False)\n",
        "priors = priors.join(orders, on = 'order_id', rsuffix='_')\n",
        "priors.drop('order_id_', inplace = True, axis = 1)"
      ],
      "execution_count": 7,
      "outputs": []
    },
    {
      "cell_type": "code",
      "metadata": {
        "id": "xalsFDNyQp66"
      },
      "source": [
        "# user feature\n",
        "\n",
        "usr = pd.DataFrame()\n",
        "usr['average_days_between_orders'] = orders.groupby('user_id')['days_since_prior_order'].mean().astype(np.float32)\n",
        "usr['nb_orders'] = orders.groupby('user_id').size().astype(np.int16)\n",
        "\n",
        "users = pd.DataFrame()\n",
        "users['total_items'] = priors.groupby('user_id').size().astype(np.int16)\n",
        "users['all_products'] = priors.groupby('user_id')['product_id'].apply(set)\n",
        "users['total_distinct_items'] = users.all_products.map(len).astype(np.int16)\n",
        "\n",
        "users = users.join(usr)\n",
        "del usr\n",
        "\n",
        "users['average_basket'] = (users.total_items/users.nb_orders).astype(np.float32)\n"
      ],
      "execution_count": 8,
      "outputs": []
    },
    {
      "cell_type": "code",
      "metadata": {
        "colab": {
          "base_uri": "https://localhost:8080/",
          "height": 204
        },
        "id": "ZWdbtcHxT4X-",
        "outputId": "5f0418e4-05a8-4f80-9f85-7da2512eb569"
      },
      "source": [
        "users.head()\n",
        "train.head()"
      ],
      "execution_count": 9,
      "outputs": [
        {
          "output_type": "execute_result",
          "data": {
            "text/html": [
              "<div>\n",
              "<style scoped>\n",
              "    .dataframe tbody tr th:only-of-type {\n",
              "        vertical-align: middle;\n",
              "    }\n",
              "\n",
              "    .dataframe tbody tr th {\n",
              "        vertical-align: top;\n",
              "    }\n",
              "\n",
              "    .dataframe thead th {\n",
              "        text-align: right;\n",
              "    }\n",
              "</style>\n",
              "<table border=\"1\" class=\"dataframe\">\n",
              "  <thead>\n",
              "    <tr style=\"text-align: right;\">\n",
              "      <th></th>\n",
              "      <th>order_id</th>\n",
              "      <th>product_id</th>\n",
              "      <th>add_to_cart_order</th>\n",
              "      <th>reordered</th>\n",
              "    </tr>\n",
              "  </thead>\n",
              "  <tbody>\n",
              "    <tr>\n",
              "      <th>0</th>\n",
              "      <td>1</td>\n",
              "      <td>49302</td>\n",
              "      <td>1</td>\n",
              "      <td>1</td>\n",
              "    </tr>\n",
              "    <tr>\n",
              "      <th>1</th>\n",
              "      <td>1</td>\n",
              "      <td>11109</td>\n",
              "      <td>2</td>\n",
              "      <td>1</td>\n",
              "    </tr>\n",
              "    <tr>\n",
              "      <th>2</th>\n",
              "      <td>1</td>\n",
              "      <td>10246</td>\n",
              "      <td>3</td>\n",
              "      <td>0</td>\n",
              "    </tr>\n",
              "    <tr>\n",
              "      <th>3</th>\n",
              "      <td>1</td>\n",
              "      <td>49683</td>\n",
              "      <td>4</td>\n",
              "      <td>0</td>\n",
              "    </tr>\n",
              "    <tr>\n",
              "      <th>4</th>\n",
              "      <td>1</td>\n",
              "      <td>43633</td>\n",
              "      <td>5</td>\n",
              "      <td>1</td>\n",
              "    </tr>\n",
              "  </tbody>\n",
              "</table>\n",
              "</div>"
            ],
            "text/plain": [
              "   order_id  product_id  add_to_cart_order  reordered\n",
              "0         1       49302                  1          1\n",
              "1         1       11109                  2          1\n",
              "2         1       10246                  3          0\n",
              "3         1       49683                  4          0\n",
              "4         1       43633                  5          1"
            ]
          },
          "metadata": {},
          "execution_count": 9
        }
      ]
    },
    {
      "cell_type": "code",
      "metadata": {
        "id": "XryjXIYhQ_gM"
      },
      "source": [
        "# userXproduct \n",
        "\n",
        "priors['user_product'] = priors.product_id+priors.user_id * 100000"
      ],
      "execution_count": 10,
      "outputs": []
    },
    {
      "cell_type": "code",
      "metadata": {
        "id": "elia0sdW8uRl"
      },
      "source": [
        "d = dict()\n",
        "for row in priors.itertuples():\n",
        "  z = row.user_product\n",
        "  if z not in d:\n",
        "    d[z] = (1, (row.order_number, row.order_id), row.add_to_cart_order)\n",
        "  else:\n",
        "    d[z] = (d[z][0] + 1, max(d[z][1], (row.order_number, row.order_id)), d[z][2] + row.add_to_cart_order)\n",
        "\n",
        "\n",
        "\n",
        "userXproduct = pd.DataFrame.from_dict(d, orient = 'index')\n",
        "del d \n",
        "userXproduct.columns = ['nb_orders', 'last_order_id', 'sum_pos_in_cart']\n",
        "userXproduct.nb_orders = userXproduct.nb_orders.astype(np.int16)\n",
        "userXproduct.last_order_id = userXproduct.last_order_id.map(lambda x : x[1]).astype(np.int32)\n",
        "userXproduct.sum_pos_in_cart = userXproduct.sum_pos_in_cart.astype(np.int16)\n"
      ],
      "execution_count": 11,
      "outputs": []
    },
    {
      "cell_type": "code",
      "metadata": {
        "id": "EjumJm41cThy"
      },
      "source": [
        "del priors"
      ],
      "execution_count": 12,
      "outputs": []
    },
    {
      "cell_type": "code",
      "metadata": {
        "id": "NIV-p6fUZAtD"
      },
      "source": [
        "# train / test orders \n",
        "\n",
        "test_orders = orders[orders.eval_set == 'test']\n",
        "train_orders = orders[orders.eval_set == 'train']\n",
        "\n",
        "train.set_index(['order_id','product_id'], inplace = True, drop = False)"
      ],
      "execution_count": 13,
      "outputs": []
    },
    {
      "cell_type": "code",
      "metadata": {
        "colab": {
          "base_uri": "https://localhost:8080/",
          "height": 235
        },
        "id": "Ylg3jrI5obkP",
        "outputId": "d71b2b8b-a4e7-4033-85d9-67b371b460f2"
      },
      "source": [
        "orders.head()"
      ],
      "execution_count": 14,
      "outputs": [
        {
          "output_type": "execute_result",
          "data": {
            "text/html": [
              "<div>\n",
              "<style scoped>\n",
              "    .dataframe tbody tr th:only-of-type {\n",
              "        vertical-align: middle;\n",
              "    }\n",
              "\n",
              "    .dataframe tbody tr th {\n",
              "        vertical-align: top;\n",
              "    }\n",
              "\n",
              "    .dataframe thead th {\n",
              "        text-align: right;\n",
              "    }\n",
              "</style>\n",
              "<table border=\"1\" class=\"dataframe\">\n",
              "  <thead>\n",
              "    <tr style=\"text-align: right;\">\n",
              "      <th></th>\n",
              "      <th>order_id</th>\n",
              "      <th>user_id</th>\n",
              "      <th>eval_set</th>\n",
              "      <th>order_number</th>\n",
              "      <th>order_dow</th>\n",
              "      <th>order_hour_of_day</th>\n",
              "      <th>days_since_prior_order</th>\n",
              "    </tr>\n",
              "    <tr>\n",
              "      <th>order_id</th>\n",
              "      <th></th>\n",
              "      <th></th>\n",
              "      <th></th>\n",
              "      <th></th>\n",
              "      <th></th>\n",
              "      <th></th>\n",
              "      <th></th>\n",
              "    </tr>\n",
              "  </thead>\n",
              "  <tbody>\n",
              "    <tr>\n",
              "      <th>2539329</th>\n",
              "      <td>2539329</td>\n",
              "      <td>1</td>\n",
              "      <td>prior</td>\n",
              "      <td>1</td>\n",
              "      <td>2</td>\n",
              "      <td>8</td>\n",
              "      <td>NaN</td>\n",
              "    </tr>\n",
              "    <tr>\n",
              "      <th>2398795</th>\n",
              "      <td>2398795</td>\n",
              "      <td>1</td>\n",
              "      <td>prior</td>\n",
              "      <td>2</td>\n",
              "      <td>3</td>\n",
              "      <td>7</td>\n",
              "      <td>15.0</td>\n",
              "    </tr>\n",
              "    <tr>\n",
              "      <th>473747</th>\n",
              "      <td>473747</td>\n",
              "      <td>1</td>\n",
              "      <td>prior</td>\n",
              "      <td>3</td>\n",
              "      <td>3</td>\n",
              "      <td>12</td>\n",
              "      <td>21.0</td>\n",
              "    </tr>\n",
              "    <tr>\n",
              "      <th>2254736</th>\n",
              "      <td>2254736</td>\n",
              "      <td>1</td>\n",
              "      <td>prior</td>\n",
              "      <td>4</td>\n",
              "      <td>4</td>\n",
              "      <td>7</td>\n",
              "      <td>29.0</td>\n",
              "    </tr>\n",
              "    <tr>\n",
              "      <th>431534</th>\n",
              "      <td>431534</td>\n",
              "      <td>1</td>\n",
              "      <td>prior</td>\n",
              "      <td>5</td>\n",
              "      <td>4</td>\n",
              "      <td>15</td>\n",
              "      <td>28.0</td>\n",
              "    </tr>\n",
              "  </tbody>\n",
              "</table>\n",
              "</div>"
            ],
            "text/plain": [
              "          order_id  user_id  ... order_hour_of_day  days_since_prior_order\n",
              "order_id                     ...                                          \n",
              "2539329    2539329        1  ...                 8                     NaN\n",
              "2398795    2398795        1  ...                 7                    15.0\n",
              "473747      473747        1  ...                12                    21.0\n",
              "2254736    2254736        1  ...                 7                    29.0\n",
              "431534      431534        1  ...                15                    28.0\n",
              "\n",
              "[5 rows x 7 columns]"
            ]
          },
          "metadata": {},
          "execution_count": 14
        }
      ]
    },
    {
      "cell_type": "code",
      "metadata": {
        "colab": {
          "base_uri": "https://localhost:8080/"
        },
        "id": "-wxp6Gbyq0Qq",
        "outputId": "168d4eca-8e56-4c7e-f907-94eee73bec5f"
      },
      "source": [
        "i = 0\n",
        "for row in train_orders.head().itertuples():\n",
        "    o_list = []\n",
        "    p_list = []\n",
        "    l = []\n",
        "    i+=1\n",
        "    if i%10000 == 0: print('order row',i)\n",
        "    o_id = row.order_id\n",
        "    print(o_id)\n",
        "    u_id = row.user_id\n",
        "    print(u_id)\n",
        "    u_products = users.all_products[u_id]\n",
        "    print(u_products)\n",
        "    p_list += u_products\n",
        "    print(p_list)\n",
        "    o_list += [o_id] * len(u_products)\n",
        "    print(o_list)\n",
        "    l += [(o_id, product) in train.index for product in u_products]\n",
        "    print(l)"
      ],
      "execution_count": 15,
      "outputs": [
        {
          "output_type": "stream",
          "text": [
            "1187899\n",
            "1\n",
            "{17122, 196, 26405, 46149, 14084, 13032, 26088, 39657, 12427, 25133, 35951, 38928, 10258, 30450, 49235, 10326, 13176, 41787}\n",
            "[17122, 196, 26405, 46149, 14084, 13032, 26088, 39657, 12427, 25133, 35951, 38928, 10258, 30450, 49235, 10326, 13176, 41787]\n",
            "[1187899, 1187899, 1187899, 1187899, 1187899, 1187899, 1187899, 1187899, 1187899, 1187899, 1187899, 1187899, 1187899, 1187899, 1187899, 1187899, 1187899, 1187899]\n",
            "[False, True, True, True, False, True, True, True, False, True, False, True, True, False, True, False, False, False]\n",
            "1492625\n",
            "2\n",
            "{45066, 2573, 18961, 23, 32792, 1559, 22559, 13351, 47144, 45613, 10305, 35917, 3151, 79, 48210, 46676, 27737, 18523, 5212, 20574, 7781, 8296, 47209, 19051, 22124, 19057, 20084, 49273, 40571, 16521, 47766, 21150, 33957, 47792, 30908, 24768, 5322, 28874, 16589, 21709, 27344, 19156, 14553, 12000, 21227, 5869, 28918, 38656, 40198, 37646, 44303, 5907, 24852, 27413, 30489, 7963, 8479, 46886, 19240, 22825, 49451, 22829, 20785, 32052, 41787, 27966, 17224, 5450, 4957, 17758, 42342, 42356, 13176, 24954, 45948, 36735, 34688, 21376, 32139, 16797, 24990, 9124, 47526, 13742, 22963, 36287, 47553, 39877, 22474, 8138, 17872, 9681, 2002, 33754, 15841, 14306, 48099, 12258, 4071, 48110, 39928, 33276}\n",
            "[45066, 2573, 18961, 23, 32792, 1559, 22559, 13351, 47144, 45613, 10305, 35917, 3151, 79, 48210, 46676, 27737, 18523, 5212, 20574, 7781, 8296, 47209, 19051, 22124, 19057, 20084, 49273, 40571, 16521, 47766, 21150, 33957, 47792, 30908, 24768, 5322, 28874, 16589, 21709, 27344, 19156, 14553, 12000, 21227, 5869, 28918, 38656, 40198, 37646, 44303, 5907, 24852, 27413, 30489, 7963, 8479, 46886, 19240, 22825, 49451, 22829, 20785, 32052, 41787, 27966, 17224, 5450, 4957, 17758, 42342, 42356, 13176, 24954, 45948, 36735, 34688, 21376, 32139, 16797, 24990, 9124, 47526, 13742, 22963, 36287, 47553, 39877, 22474, 8138, 17872, 9681, 2002, 33754, 15841, 14306, 48099, 12258, 4071, 48110, 39928, 33276]\n",
            "[1492625, 1492625, 1492625, 1492625, 1492625, 1492625, 1492625, 1492625, 1492625, 1492625, 1492625, 1492625, 1492625, 1492625, 1492625, 1492625, 1492625, 1492625, 1492625, 1492625, 1492625, 1492625, 1492625, 1492625, 1492625, 1492625, 1492625, 1492625, 1492625, 1492625, 1492625, 1492625, 1492625, 1492625, 1492625, 1492625, 1492625, 1492625, 1492625, 1492625, 1492625, 1492625, 1492625, 1492625, 1492625, 1492625, 1492625, 1492625, 1492625, 1492625, 1492625, 1492625, 1492625, 1492625, 1492625, 1492625, 1492625, 1492625, 1492625, 1492625, 1492625, 1492625, 1492625, 1492625, 1492625, 1492625, 1492625, 1492625, 1492625, 1492625, 1492625, 1492625, 1492625, 1492625, 1492625, 1492625, 1492625, 1492625, 1492625, 1492625, 1492625, 1492625, 1492625, 1492625, 1492625, 1492625, 1492625, 1492625, 1492625, 1492625, 1492625, 1492625, 1492625, 1492625, 1492625, 1492625, 1492625, 1492625, 1492625, 1492625, 1492625, 1492625]\n",
            "[True, False, False, False, True, False, True, False, False, True, False, False, False, False, False, False, False, False, False, False, False, False, False, False, False, False, False, False, False, False, False, False, True, False, False, False, False, False, True, False, False, False, False, False, False, False, False, False, False, False, False, False, True, False, False, True, False, False, False, True, False, False, False, False, True, False, False, True, False, False, False, False, False, False, False, False, False, False, False, False, False, False, False, False, True, False, False, False, False, False, False, False, False, False, False, False, False, False, False, False, False, False]\n",
            "2196797\n",
            "5\n",
            "{11777, 40706, 28289, 48775, 20754, 6808, 13988, 21413, 24231, 16168, 43693, 13870, 3376, 8518, 18761, 22475, 27344, 24535, 31717, 26604, 5999, 21616, 15349}\n",
            "[11777, 40706, 28289, 48775, 20754, 6808, 13988, 21413, 24231, 16168, 43693, 13870, 3376, 8518, 18761, 22475, 27344, 24535, 31717, 26604, 5999, 21616, 15349]\n",
            "[2196797, 2196797, 2196797, 2196797, 2196797, 2196797, 2196797, 2196797, 2196797, 2196797, 2196797, 2196797, 2196797, 2196797, 2196797, 2196797, 2196797, 2196797, 2196797, 2196797, 2196797, 2196797, 2196797]\n",
            "[False, True, False, False, False, False, False, True, False, False, False, False, False, False, False, False, False, False, False, False, False, True, True]\n",
            "525192\n",
            "7\n",
            "{11520, 35333, 519, 10504, 47623, 45066, 13198, 10895, 21137, 274, 40852, 27156, 42265, 23712, 29602, 12196, 47272, 29993, 27690, 29871, 32177, 21298, 42803, 22963, 30391, 4920, 14267, 45628, 43967, 18880, 13249, 31683, 8518, 29894, 19019, 42828, 33740, 18382, 27344, 4945, 39121, 49235, 8277, 22742, 43352, 6361, 23516, 15581, 19678, 45537, 37602, 26209, 49508, 31717, 17638, 15592, 26346, 39275, 13802, 37999, 31343, 22000, 25199, 44661, 13176, 46969, 14332, 9598}\n",
            "[11520, 35333, 519, 10504, 47623, 45066, 13198, 10895, 21137, 274, 40852, 27156, 42265, 23712, 29602, 12196, 47272, 29993, 27690, 29871, 32177, 21298, 42803, 22963, 30391, 4920, 14267, 45628, 43967, 18880, 13249, 31683, 8518, 29894, 19019, 42828, 33740, 18382, 27344, 4945, 39121, 49235, 8277, 22742, 43352, 6361, 23516, 15581, 19678, 45537, 37602, 26209, 49508, 31717, 17638, 15592, 26346, 39275, 13802, 37999, 31343, 22000, 25199, 44661, 13176, 46969, 14332, 9598]\n",
            "[525192, 525192, 525192, 525192, 525192, 525192, 525192, 525192, 525192, 525192, 525192, 525192, 525192, 525192, 525192, 525192, 525192, 525192, 525192, 525192, 525192, 525192, 525192, 525192, 525192, 525192, 525192, 525192, 525192, 525192, 525192, 525192, 525192, 525192, 525192, 525192, 525192, 525192, 525192, 525192, 525192, 525192, 525192, 525192, 525192, 525192, 525192, 525192, 525192, 525192, 525192, 525192, 525192, 525192, 525192, 525192, 525192, 525192, 525192, 525192, 525192, 525192, 525192, 525192, 525192, 525192, 525192, 525192]\n",
            "[False, False, False, False, False, True, True, False, False, False, True, False, False, False, False, False, True, False, False, False, False, False, False, False, False, False, False, False, True, False, False, False, False, True, False, False, False, False, False, False, False, False, False, False, False, False, False, False, False, False, False, False, False, False, True, False, False, False, False, True, False, False, False, False, False, False, False, False]\n",
            "880375\n",
            "8\n",
            "{11136, 8193, 17794, 26882, 39812, 24838, 651, 34190, 21903, 14992, 10644, 2078, 32030, 43295, 15143, 18479, 6141, 34358, 20920, 28985, 4799, 15937, 44099, 41540, 23165, 39110, 32197, 6473, 16349, 18531, 23400, 33640, 9839, 42736, 1529, 49533}\n",
            "[11136, 8193, 17794, 26882, 39812, 24838, 651, 34190, 21903, 14992, 10644, 2078, 32030, 43295, 15143, 18479, 6141, 34358, 20920, 28985, 4799, 15937, 44099, 41540, 23165, 39110, 32197, 6473, 16349, 18531, 23400, 33640, 9839, 42736, 1529, 49533]\n",
            "[880375, 880375, 880375, 880375, 880375, 880375, 880375, 880375, 880375, 880375, 880375, 880375, 880375, 880375, 880375, 880375, 880375, 880375, 880375, 880375, 880375, 880375, 880375, 880375, 880375, 880375, 880375, 880375, 880375, 880375, 880375, 880375, 880375, 880375, 880375, 880375]\n",
            "[False, False, False, False, False, False, False, False, True, False, False, False, False, False, False, False, False, False, False, False, False, True, False, True, True, False, False, False, False, False, False, False, False, False, False, False]\n"
          ],
          "name": "stdout"
        }
      ]
    },
    {
      "cell_type": "code",
      "metadata": {
        "colab": {
          "base_uri": "https://localhost:8080/",
          "height": 450
        },
        "id": "chwsg-9PrsGh",
        "outputId": "0831cf56-0fa9-4ee5-dd6b-a5f0de818e76"
      },
      "source": [
        "#train_orders.head().order_id\n",
        "\n",
        "u_id\n",
        "users.all_products[u_id]\n",
        "o_id\n",
        "o_list\n",
        "u_products\n",
        "p_list\n",
        "l\n",
        "# (o_id, product)\n",
        "train.index\n",
        "train"
      ],
      "execution_count": 16,
      "outputs": [
        {
          "output_type": "execute_result",
          "data": {
            "text/html": [
              "<div>\n",
              "<style scoped>\n",
              "    .dataframe tbody tr th:only-of-type {\n",
              "        vertical-align: middle;\n",
              "    }\n",
              "\n",
              "    .dataframe tbody tr th {\n",
              "        vertical-align: top;\n",
              "    }\n",
              "\n",
              "    .dataframe thead th {\n",
              "        text-align: right;\n",
              "    }\n",
              "</style>\n",
              "<table border=\"1\" class=\"dataframe\">\n",
              "  <thead>\n",
              "    <tr style=\"text-align: right;\">\n",
              "      <th></th>\n",
              "      <th></th>\n",
              "      <th>order_id</th>\n",
              "      <th>product_id</th>\n",
              "      <th>add_to_cart_order</th>\n",
              "      <th>reordered</th>\n",
              "    </tr>\n",
              "    <tr>\n",
              "      <th>order_id</th>\n",
              "      <th>product_id</th>\n",
              "      <th></th>\n",
              "      <th></th>\n",
              "      <th></th>\n",
              "      <th></th>\n",
              "    </tr>\n",
              "  </thead>\n",
              "  <tbody>\n",
              "    <tr>\n",
              "      <th rowspan=\"5\" valign=\"top\">1</th>\n",
              "      <th>49302</th>\n",
              "      <td>1</td>\n",
              "      <td>49302</td>\n",
              "      <td>1</td>\n",
              "      <td>1</td>\n",
              "    </tr>\n",
              "    <tr>\n",
              "      <th>11109</th>\n",
              "      <td>1</td>\n",
              "      <td>11109</td>\n",
              "      <td>2</td>\n",
              "      <td>1</td>\n",
              "    </tr>\n",
              "    <tr>\n",
              "      <th>10246</th>\n",
              "      <td>1</td>\n",
              "      <td>10246</td>\n",
              "      <td>3</td>\n",
              "      <td>0</td>\n",
              "    </tr>\n",
              "    <tr>\n",
              "      <th>49683</th>\n",
              "      <td>1</td>\n",
              "      <td>49683</td>\n",
              "      <td>4</td>\n",
              "      <td>0</td>\n",
              "    </tr>\n",
              "    <tr>\n",
              "      <th>43633</th>\n",
              "      <td>1</td>\n",
              "      <td>43633</td>\n",
              "      <td>5</td>\n",
              "      <td>1</td>\n",
              "    </tr>\n",
              "    <tr>\n",
              "      <th>...</th>\n",
              "      <th>...</th>\n",
              "      <td>...</td>\n",
              "      <td>...</td>\n",
              "      <td>...</td>\n",
              "      <td>...</td>\n",
              "    </tr>\n",
              "    <tr>\n",
              "      <th rowspan=\"2\" valign=\"top\">3421063</th>\n",
              "      <th>14233</th>\n",
              "      <td>3421063</td>\n",
              "      <td>14233</td>\n",
              "      <td>3</td>\n",
              "      <td>1</td>\n",
              "    </tr>\n",
              "    <tr>\n",
              "      <th>35548</th>\n",
              "      <td>3421063</td>\n",
              "      <td>35548</td>\n",
              "      <td>4</td>\n",
              "      <td>1</td>\n",
              "    </tr>\n",
              "    <tr>\n",
              "      <th rowspan=\"3\" valign=\"top\">3421070</th>\n",
              "      <th>35951</th>\n",
              "      <td>3421070</td>\n",
              "      <td>35951</td>\n",
              "      <td>1</td>\n",
              "      <td>1</td>\n",
              "    </tr>\n",
              "    <tr>\n",
              "      <th>16953</th>\n",
              "      <td>3421070</td>\n",
              "      <td>16953</td>\n",
              "      <td>2</td>\n",
              "      <td>1</td>\n",
              "    </tr>\n",
              "    <tr>\n",
              "      <th>4724</th>\n",
              "      <td>3421070</td>\n",
              "      <td>4724</td>\n",
              "      <td>3</td>\n",
              "      <td>1</td>\n",
              "    </tr>\n",
              "  </tbody>\n",
              "</table>\n",
              "<p>1384617 rows × 4 columns</p>\n",
              "</div>"
            ],
            "text/plain": [
              "                     order_id  product_id  add_to_cart_order  reordered\n",
              "order_id product_id                                                    \n",
              "1        49302              1       49302                  1          1\n",
              "         11109              1       11109                  2          1\n",
              "         10246              1       10246                  3          0\n",
              "         49683              1       49683                  4          0\n",
              "         43633              1       43633                  5          1\n",
              "...                       ...         ...                ...        ...\n",
              "3421063  14233        3421063       14233                  3          1\n",
              "         35548        3421063       35548                  4          1\n",
              "3421070  35951        3421070       35951                  1          1\n",
              "         16953        3421070       16953                  2          1\n",
              "         4724         3421070        4724                  3          1\n",
              "\n",
              "[1384617 rows x 4 columns]"
            ]
          },
          "metadata": {},
          "execution_count": 16
        }
      ]
    },
    {
      "cell_type": "code",
      "metadata": {
        "id": "lccS48sLZriN"
      },
      "source": [
        "def features(selected_orders, labels_given = False):\n",
        "  order_list = []\n",
        "  product_list = []\n",
        "  labels = []\n",
        "  i = 0\n",
        "  for row in selected_orders.itertuples():\n",
        "    i+=1\n",
        "    if i%10000 == 0: print('order row',i)\n",
        "    order_id = row.order_id\n",
        "    user_id = row.user_id\n",
        "    user_products = users.all_products[user_id]\n",
        "    product_list += user_products\n",
        "    order_list += [order_id] * len(user_products)\n",
        "    if labels_given:\n",
        "      labels += [(order_id, product) in train.index for product in user_products]\n",
        "    \n",
        "  df = pd.DataFrame({'order_id':order_list, 'product_id':product_list}, dtype=np.int32)\n",
        "  labels = np.array(labels, dtype = np.int8)\n",
        "  del order_list\n",
        "  del product_list\n",
        "\n",
        "  print('user related features')\n",
        "  df['user_id'] = df.order_id.map(orders.user_id)\n",
        "  df['user_total_orders'] = df.user_id.map(users.nb_orders)\n",
        "  df['user_total_items'] = df.user_id.map(users.total_items)\n",
        "  df['total_distinct_items'] = df.user_id.map(users.total_distinct_items)\n",
        "  df['user_average_days_between_orders'] = df.user_id.map(users.average_days_between_orders)\n",
        "  df['user_average_basket'] = df.user_id.map(users.average_basket)\n",
        "\n",
        "  print('order related features')\n",
        "  df['order_hour_of_day'] = df.order_id.map(orders.order_hour_of_day)\n",
        "  df['days_since_prior_order'] = df.order_id.map(orders.days_since_prior_order)\n",
        "  df['days_since_ratio'] = df.days_since_prior_order/df.user_average_days_between_orders\n",
        "\n",
        "\n",
        "  print('product related feature')\n",
        "  df['aisle_id'] = df.product_id.map(products.aisle_id)\n",
        "  df['department_id'] = df.product_id.map(products.department_id)\n",
        "  df['product_orders'] = df.product_id.map(products.orders).astype(np.int32)\n",
        "  df['product_reorders'] = df.product_id.map(products.reorders)\n",
        "  df['product_reorder_rate'] = df.product_id.map(products.reorder_rate)\n",
        "\n",
        "  print('print_X_product related features')\n",
        "  df['z'] = df.user_id*100000 + df.product_id\n",
        "  df.drop(['user_id'], axis = 1, inplace = True)\n",
        "  df['UP_orders'] = df.z.map(userXproduct.nb_orders)\n",
        "  df['UP_orders_ratio'] = (df.UP_orders/df.user_total_orders).astype(np.float32)\n",
        "  df['UP_last_order_id'] = df.z.map(userXproduct.last_order_id)\n",
        "  df['UP_average_pos_in_cart'] = (df.z.map(userXproduct.sum_pos_in_cart)/df.UP_orders).astype(np.float32)\n",
        "  df['UP_reorder_rate'] = (df.UP_orders/df.user_total_orders).astype(np.float32)\n",
        "  df['UP_orders_since_last'] = df.user_total_orders - df.UP_last_order_id.map(orders.order_number)\n",
        "  df['UP_delta_hour_vs_last'] = abs(df.order_hour_of_day - df.UP_last_order_id.map(orders.order_hour_of_day)).map(lambda x : min(x, 24-x)).astype(np.int8)\n",
        "\n",
        "  df.drop(['UP_last_order_id','z'], axis = 1, inplace = True)\n",
        "  print(df.dtypes)\n",
        "  print(df.memory_usage())\n",
        "  return (df, labels)"
      ],
      "execution_count": 17,
      "outputs": []
    },
    {
      "cell_type": "code",
      "metadata": {
        "colab": {
          "base_uri": "https://localhost:8080/"
        },
        "id": "k0wkWeyv7edj",
        "outputId": "df85a6a5-11f1-48d1-86cf-371ff17c4266"
      },
      "source": [
        "df_train, labels = features(train_orders, labels_given = True)"
      ],
      "execution_count": 18,
      "outputs": [
        {
          "output_type": "stream",
          "text": [
            "order row 10000\n",
            "order row 20000\n",
            "order row 30000\n",
            "order row 40000\n",
            "order row 50000\n",
            "order row 60000\n",
            "order row 70000\n",
            "order row 80000\n",
            "order row 90000\n",
            "order row 100000\n",
            "order row 110000\n",
            "order row 120000\n",
            "order row 130000\n",
            "user related features\n",
            "order related features\n",
            "product related feature\n",
            "print_X_product related features\n",
            "order_id                              int32\n",
            "product_id                            int32\n",
            "user_total_orders                     int16\n",
            "user_total_items                      int16\n",
            "total_distinct_items                  int16\n",
            "user_average_days_between_orders    float32\n",
            "user_average_basket                 float32\n",
            "order_hour_of_day                     int64\n",
            "days_since_prior_order              float64\n",
            "days_since_ratio                    float64\n",
            "aisle_id                              int64\n",
            "department_id                         int64\n",
            "product_orders                        int32\n",
            "product_reorders                    float32\n",
            "product_reorder_rate                float32\n",
            "UP_orders                             int16\n",
            "UP_orders_ratio                     float32\n",
            "UP_average_pos_in_cart              float32\n",
            "UP_reorder_rate                     float32\n",
            "UP_orders_since_last                  int64\n",
            "UP_delta_hour_vs_last                  int8\n",
            "dtype: object\n",
            "Index                                    128\n",
            "order_id                            33898644\n",
            "product_id                          33898644\n",
            "user_total_orders                   16949322\n",
            "user_total_items                    16949322\n",
            "total_distinct_items                16949322\n",
            "user_average_days_between_orders    33898644\n",
            "user_average_basket                 33898644\n",
            "order_hour_of_day                   67797288\n",
            "days_since_prior_order              67797288\n",
            "days_since_ratio                    67797288\n",
            "aisle_id                            67797288\n",
            "department_id                       67797288\n",
            "product_orders                      33898644\n",
            "product_reorders                    33898644\n",
            "product_reorder_rate                33898644\n",
            "UP_orders                           16949322\n",
            "UP_orders_ratio                     33898644\n",
            "UP_average_pos_in_cart              33898644\n",
            "UP_reorder_rate                     33898644\n",
            "UP_orders_since_last                67797288\n",
            "UP_delta_hour_vs_last                8474661\n",
            "dtype: int64\n"
          ],
          "name": "stdout"
        }
      ]
    },
    {
      "cell_type": "code",
      "metadata": {
        "colab": {
          "base_uri": "https://localhost:8080/"
        },
        "id": "hT-PlZ76png-",
        "outputId": "84e205b7-7b2e-4c59-b216-e27b7838ca94"
      },
      "source": [
        "labels.sum()"
      ],
      "execution_count": 19,
      "outputs": [
        {
          "output_type": "execute_result",
          "data": {
            "text/plain": [
              "828824"
            ]
          },
          "metadata": {},
          "execution_count": 19
        }
      ]
    },
    {
      "cell_type": "code",
      "metadata": {
        "id": "NXHOlnUz6oAK"
      },
      "source": [
        "f_to_use = ['user_total_orders', 'user_total_items', 'total_distinct_items',\n",
        "       'user_average_days_between_orders', 'user_average_basket',\n",
        "       'order_hour_of_day', 'days_since_prior_order', 'days_since_ratio',\n",
        "        'product_orders', 'product_reorders',\n",
        "       'product_reorder_rate', 'UP_orders', 'UP_orders_ratio',\n",
        "       'UP_average_pos_in_cart', 'UP_reorder_rate', 'UP_orders_since_last',\n",
        "       'UP_delta_hour_vs_last'] # 'dow', 'UP_same_dow_as_last_order', 'aisle_id', 'department_id',"
      ],
      "execution_count": 20,
      "outputs": []
    },
    {
      "cell_type": "markdown",
      "metadata": {
        "id": "nFTBwyhsvTkx"
      },
      "source": [
        "## Train test split"
      ]
    },
    {
      "cell_type": "code",
      "metadata": {
        "colab": {
          "base_uri": "https://localhost:8080/"
        },
        "id": "c9lMcpnevWng",
        "outputId": "6f8628f5-87ba-432c-f277-733caa8fd497"
      },
      "source": [
        "from sklearn.model_selection import train_test_split\n",
        "\n",
        "df_train.replace([np.inf, -np.inf],np.nan, inplace = True)\n",
        "df_train.fillna(df_train.mean(),inplace = True)\n",
        "\n",
        "X = df_train\n",
        "Y = labels\n",
        "\n",
        "x_train, x_test, y_train, y_test = train_test_split(X, Y, stratify = Y, test_size = 0.2, random_state = 14)\n",
        "\n",
        "print('train', x_train.shape, y_train.shape)\n",
        "print('test', x_test.shape, y_test.shape)"
      ],
      "execution_count": 21,
      "outputs": [
        {
          "output_type": "stream",
          "text": [
            "train (6779728, 21) (6779728,)\n",
            "test (1694933, 21) (1694933,)\n"
          ],
          "name": "stdout"
        }
      ]
    },
    {
      "cell_type": "markdown",
      "metadata": {
        "id": "8Q4EG53SEkxn"
      },
      "source": [
        "## Logistic"
      ]
    },
    {
      "cell_type": "code",
      "metadata": {
        "id": "z3xP_z-KCOmJ",
        "colab": {
          "base_uri": "https://localhost:8080/"
        },
        "outputId": "e9d23b68-802d-4d68-8db8-321c6ec43d75"
      },
      "source": [
        "from sklearn.linear_model import LogisticRegression\n",
        "\n",
        "logreg = LogisticRegression(C=1e5)\n",
        "logreg.fit(x_train[f_to_use], y_train)"
      ],
      "execution_count": 22,
      "outputs": [
        {
          "output_type": "stream",
          "text": [
            "/usr/local/lib/python3.7/dist-packages/sklearn/linear_model/_logistic.py:940: ConvergenceWarning: lbfgs failed to converge (status=1):\n",
            "STOP: TOTAL NO. of ITERATIONS REACHED LIMIT.\n",
            "\n",
            "Increase the number of iterations (max_iter) or scale the data as shown in:\n",
            "    https://scikit-learn.org/stable/modules/preprocessing.html\n",
            "Please also refer to the documentation for alternative solver options:\n",
            "    https://scikit-learn.org/stable/modules/linear_model.html#logistic-regression\n",
            "  extra_warning_msg=_LOGISTIC_SOLVER_CONVERGENCE_MSG)\n"
          ],
          "name": "stderr"
        },
        {
          "output_type": "execute_result",
          "data": {
            "text/plain": [
              "LogisticRegression(C=100000.0, class_weight=None, dual=False,\n",
              "                   fit_intercept=True, intercept_scaling=1, l1_ratio=None,\n",
              "                   max_iter=100, multi_class='auto', n_jobs=None, penalty='l2',\n",
              "                   random_state=None, solver='lbfgs', tol=0.0001, verbose=0,\n",
              "                   warm_start=False)"
            ]
          },
          "metadata": {},
          "execution_count": 22
        }
      ]
    },
    {
      "cell_type": "code",
      "metadata": {
        "colab": {
          "base_uri": "https://localhost:8080/"
        },
        "id": "a2XfjcXnErDd",
        "outputId": "f4cdb7b1-d653-4a19-d4f1-e95ff7473b6b"
      },
      "source": [
        "from sklearn.metrics import classification_report, f1_score\n",
        "y_pred = logreg.predict(x_test[f_to_use])\n",
        "y_true = y_test\n",
        "\n",
        "print(f1_score(y_pred, y_true))\n",
        "print(classification_report(y_true, y_pred))"
      ],
      "execution_count": 23,
      "outputs": [
        {
          "output_type": "stream",
          "text": [
            "0.06902948145885998\n",
            "              precision    recall  f1-score   support\n",
            "\n",
            "           0       0.91      1.00      0.95   1529168\n",
            "           1       0.55      0.04      0.07    165765\n",
            "\n",
            "    accuracy                           0.90   1694933\n",
            "   macro avg       0.73      0.52      0.51   1694933\n",
            "weighted avg       0.87      0.90      0.86   1694933\n",
            "\n"
          ],
          "name": "stdout"
        }
      ]
    },
    {
      "cell_type": "code",
      "metadata": {
        "colab": {
          "base_uri": "https://localhost:8080/",
          "height": 295
        },
        "id": "gkWxXZoiliLW",
        "outputId": "884ac65c-bf73-4eda-bc29-ce483a9d92d2"
      },
      "source": [
        "from sklearn.metrics import roc_auc_score\n",
        "from sklearn.metrics import roc_curve\n",
        "import matplotlib.pyplot as plt\n",
        "\n",
        "\n",
        "\n",
        "logit_roc_auc = roc_auc_score(y_test, logreg.predict(x_test[f_to_use]))\n",
        "fpr, tpr, thresholds = roc_curve(y_test, logreg.predict_proba(x_test[f_to_use])[:,1])\n",
        "plt.figure()\n",
        "plt.plot(fpr, tpr, label='Logistic Regression (area = %0.2f)' % logit_roc_auc)\n",
        "plt.plot([0, 1], [0, 1],'r--')\n",
        "plt.xlim([0.0, 1.0])\n",
        "plt.ylim([0.0, 1.05])\n",
        "plt.xlabel('False Positive Rate')\n",
        "plt.ylabel('True Positive Rate')\n",
        "plt.title('Receiver operating characteristic')\n",
        "plt.legend(loc=\"lower right\")\n",
        "plt.savefig('Log_ROC')\n",
        "plt.show()"
      ],
      "execution_count": 24,
      "outputs": [
        {
          "output_type": "display_data",
          "data": {
            "image/png": "[encoded data removed]",
            "text/plain": [
              "<Figure size 432x288 with 1 Axes>"
            ]
          },
          "metadata": {
            "needs_background": "light"
          }
        }
      ]
    },
    {
      "cell_type": "code",
      "metadata": {
        "id": "jyMeFvLr5rve"
      },
      "source": [
        "x_test_w_pred = x_test.copy()\n",
        "x_test_w_pred['prob'] = logreg.predict_proba(x_test[f_to_use])[:,1]"
      ],
      "execution_count": 25,
      "outputs": []
    },
    {
      "cell_type": "code",
      "metadata": {
        "colab": {
          "base_uri": "https://localhost:8080/",
          "height": 224
        },
        "id": "BSfcau5i616K",
        "outputId": "7d02c44f-75cd-4091-ce81-5288002667ba"
      },
      "source": [
        "x_test_w_pred.head()"
      ],
      "execution_count": 27,
      "outputs": [
        {
          "output_type": "execute_result",
          "data": {
            "text/html": [
              "<div>\n",
              "<style scoped>\n",
              "    .dataframe tbody tr th:only-of-type {\n",
              "        vertical-align: middle;\n",
              "    }\n",
              "\n",
              "    .dataframe tbody tr th {\n",
              "        vertical-align: top;\n",
              "    }\n",
              "\n",
              "    .dataframe thead th {\n",
              "        text-align: right;\n",
              "    }\n",
              "</style>\n",
              "<table border=\"1\" class=\"dataframe\">\n",
              "  <thead>\n",
              "    <tr style=\"text-align: right;\">\n",
              "      <th></th>\n",
              "      <th>order_id</th>\n",
              "      <th>product_id</th>\n",
              "      <th>user_total_orders</th>\n",
              "      <th>user_total_items</th>\n",
              "      <th>total_distinct_items</th>\n",
              "      <th>user_average_days_between_orders</th>\n",
              "      <th>user_average_basket</th>\n",
              "      <th>order_hour_of_day</th>\n",
              "      <th>days_since_prior_order</th>\n",
              "      <th>days_since_ratio</th>\n",
              "      <th>aisle_id</th>\n",
              "      <th>department_id</th>\n",
              "      <th>product_orders</th>\n",
              "      <th>product_reorders</th>\n",
              "      <th>product_reorder_rate</th>\n",
              "      <th>UP_orders</th>\n",
              "      <th>UP_orders_ratio</th>\n",
              "      <th>UP_average_pos_in_cart</th>\n",
              "      <th>UP_reorder_rate</th>\n",
              "      <th>UP_orders_since_last</th>\n",
              "      <th>UP_delta_hour_vs_last</th>\n",
              "      <th>prob</th>\n",
              "    </tr>\n",
              "  </thead>\n",
              "  <tbody>\n",
              "    <tr>\n",
              "      <th>2544334</th>\n",
              "      <td>1771953</td>\n",
              "      <td>26369</td>\n",
              "      <td>6</td>\n",
              "      <td>102</td>\n",
              "      <td>64</td>\n",
              "      <td>11.800000</td>\n",
              "      <td>17.000000</td>\n",
              "      <td>14</td>\n",
              "      <td>5.0</td>\n",
              "      <td>0.423729</td>\n",
              "      <td>83</td>\n",
              "      <td>4</td>\n",
              "      <td>29296</td>\n",
              "      <td>18790.0</td>\n",
              "      <td>0.641384</td>\n",
              "      <td>1</td>\n",
              "      <td>0.166667</td>\n",
              "      <td>20.0</td>\n",
              "      <td>0.166667</td>\n",
              "      <td>3</td>\n",
              "      <td>4</td>\n",
              "      <td>0.151376</td>\n",
              "    </tr>\n",
              "    <tr>\n",
              "      <th>990662</th>\n",
              "      <td>229236</td>\n",
              "      <td>27521</td>\n",
              "      <td>5</td>\n",
              "      <td>39</td>\n",
              "      <td>29</td>\n",
              "      <td>30.000000</td>\n",
              "      <td>7.800000</td>\n",
              "      <td>9</td>\n",
              "      <td>30.0</td>\n",
              "      <td>1.000000</td>\n",
              "      <td>83</td>\n",
              "      <td>4</td>\n",
              "      <td>43067</td>\n",
              "      <td>29936.0</td>\n",
              "      <td>0.695103</td>\n",
              "      <td>1</td>\n",
              "      <td>0.200000</td>\n",
              "      <td>4.0</td>\n",
              "      <td>0.200000</td>\n",
              "      <td>4</td>\n",
              "      <td>5</td>\n",
              "      <td>0.156006</td>\n",
              "    </tr>\n",
              "    <tr>\n",
              "      <th>4482875</th>\n",
              "      <td>17637</td>\n",
              "      <td>39024</td>\n",
              "      <td>4</td>\n",
              "      <td>43</td>\n",
              "      <td>37</td>\n",
              "      <td>21.333334</td>\n",
              "      <td>10.750000</td>\n",
              "      <td>16</td>\n",
              "      <td>14.0</td>\n",
              "      <td>0.656250</td>\n",
              "      <td>116</td>\n",
              "      <td>1</td>\n",
              "      <td>4127</td>\n",
              "      <td>1650.0</td>\n",
              "      <td>0.399806</td>\n",
              "      <td>1</td>\n",
              "      <td>0.250000</td>\n",
              "      <td>10.0</td>\n",
              "      <td>0.250000</td>\n",
              "      <td>2</td>\n",
              "      <td>3</td>\n",
              "      <td>0.147933</td>\n",
              "    </tr>\n",
              "    <tr>\n",
              "      <th>4264697</th>\n",
              "      <td>512561</td>\n",
              "      <td>19180</td>\n",
              "      <td>75</td>\n",
              "      <td>871</td>\n",
              "      <td>242</td>\n",
              "      <td>3.797297</td>\n",
              "      <td>11.613334</td>\n",
              "      <td>8</td>\n",
              "      <td>3.0</td>\n",
              "      <td>0.790036</td>\n",
              "      <td>107</td>\n",
              "      <td>19</td>\n",
              "      <td>2197</td>\n",
              "      <td>1525.0</td>\n",
              "      <td>0.694128</td>\n",
              "      <td>1</td>\n",
              "      <td>0.013333</td>\n",
              "      <td>16.0</td>\n",
              "      <td>0.013333</td>\n",
              "      <td>8</td>\n",
              "      <td>0</td>\n",
              "      <td>0.015918</td>\n",
              "    </tr>\n",
              "    <tr>\n",
              "      <th>1025019</th>\n",
              "      <td>1097090</td>\n",
              "      <td>6689</td>\n",
              "      <td>14</td>\n",
              "      <td>281</td>\n",
              "      <td>149</td>\n",
              "      <td>20.769230</td>\n",
              "      <td>20.071428</td>\n",
              "      <td>9</td>\n",
              "      <td>24.0</td>\n",
              "      <td>1.155556</td>\n",
              "      <td>114</td>\n",
              "      <td>17</td>\n",
              "      <td>724</td>\n",
              "      <td>189.0</td>\n",
              "      <td>0.261050</td>\n",
              "      <td>1</td>\n",
              "      <td>0.071429</td>\n",
              "      <td>16.0</td>\n",
              "      <td>0.071429</td>\n",
              "      <td>8</td>\n",
              "      <td>4</td>\n",
              "      <td>0.067060</td>\n",
              "    </tr>\n",
              "  </tbody>\n",
              "</table>\n",
              "</div>"
            ],
            "text/plain": [
              "         order_id  product_id  ...  UP_delta_hour_vs_last      prob\n",
              "2544334   1771953       26369  ...                      4  0.151376\n",
              "990662     229236       27521  ...                      5  0.156006\n",
              "4482875     17637       39024  ...                      3  0.147933\n",
              "4264697    512561       19180  ...                      0  0.015918\n",
              "1025019   1097090        6689  ...                      4  0.067060\n",
              "\n",
              "[5 rows x 22 columns]"
            ]
          },
          "metadata": {},
          "execution_count": 27
        }
      ]
    },
    {
      "cell_type": "markdown",
      "metadata": {
        "id": "n9PezzwgEgEL"
      },
      "source": [
        "## LightGBM"
      ]
    },
    {
      "cell_type": "code",
      "metadata": {
        "colab": {
          "base_uri": "https://localhost:8080/"
        },
        "id": "RXgjoA_A2veS",
        "outputId": "e6df6395-f922-4632-c5e4-34122d754d35"
      },
      "source": [
        "lgb_model = lgb.LGBMClassifier(boosting_type = 'gbdt', n_estimators=100, max_depth = 3)\n",
        "lgb_model.fit(x_train[f_to_use], y_train)"
      ],
      "execution_count": 110,
      "outputs": [
        {
          "output_type": "stream",
          "text": [
            "formating for lgb\n"
          ],
          "name": "stdout"
        },
        {
          "output_type": "execute_result",
          "data": {
            "text/plain": [
              "LGBMClassifier(boosting_type='gbdt', class_weight=None, colsample_bytree=1.0,\n",
              "               importance_type='split', learning_rate=0.1, max_depth=3,\n",
              "               min_child_samples=20, min_child_weight=0.001, min_split_gain=0.0,\n",
              "               n_estimators=100, n_jobs=-1, num_leaves=31, objective=None,\n",
              "               random_state=None, reg_alpha=0.0, reg_lambda=0.0, silent=True,\n",
              "               subsample=1.0, subsample_for_bin=200000, subsample_freq=0)"
            ]
          },
          "metadata": {},
          "execution_count": 110
        }
      ]
    },
    {
      "cell_type": "code",
      "metadata": {
        "colab": {
          "base_uri": "https://localhost:8080/"
        },
        "id": "07zk6D93YFfJ",
        "outputId": "cc10c806-f7d0-4e07-da38-cbafbd7dbd82"
      },
      "source": [
        "y_pred_l = lgb_model.predict_proba(x_test[f_to_use])[:,1] >= 0.21\n",
        "y_true_l = y_test\n",
        "\n",
        "print(f1_score(y_pred_l, y_true_l))\n",
        "print(classification_report(y_true_l, y_pred_l))"
      ],
      "execution_count": 111,
      "outputs": [
        {
          "output_type": "stream",
          "text": [
            "0.43480666443961913\n",
            "              precision    recall  f1-score   support\n",
            "\n",
            "           0       0.94      0.91      0.93   1529168\n",
            "           1       0.38      0.50      0.43    165765\n",
            "\n",
            "    accuracy                           0.87   1694933\n",
            "   macro avg       0.66      0.71      0.68   1694933\n",
            "weighted avg       0.89      0.87      0.88   1694933\n",
            "\n"
          ],
          "name": "stdout"
        }
      ]
    },
    {
      "cell_type": "code",
      "metadata": {
        "colab": {
          "base_uri": "https://localhost:8080/"
        },
        "id": "mvSpRvUu53DB",
        "outputId": "c6f5b42e-2e20-42bb-cb18-d92a3ed36f35"
      },
      "source": [
        "d_train = lgb.Dataset(x_train[f_to_use],\n",
        "                      label=y_train\n",
        "                      # categorical_feature=['aisle_id', 'department_id']\n",
        "                      )  # , 'order_hour_of_day', 'dow'\n",
        "\n",
        "params = {\n",
        "    'task': 'train',\n",
        "    'boosting_type': 'gbdt',\n",
        "    'objective': 'binary',\n",
        "    'metric': {'binary_logloss'},\n",
        "    'num_leaves': 96,\n",
        "    'max_depth': 10,\n",
        "    'feature_fraction': 0.9,\n",
        "    'bagging_fraction': 0.95,\n",
        "    'bagging_freq': 5\n",
        "}\n",
        "ROUNDS = 100\n",
        "\n",
        "print('light GBM train :-)')\n",
        "bst = lgb.train(params, d_train, ROUNDS)\n",
        "# lgb.plot_importance(bst, figsize=(9,20))"
      ],
      "execution_count": 28,
      "outputs": [
        {
          "output_type": "stream",
          "text": [
            "light GBM train :-)\n"
          ],
          "name": "stdout"
        }
      ]
    },
    {
      "cell_type": "code",
      "metadata": {
        "colab": {
          "base_uri": "https://localhost:8080/"
        },
        "id": "YmpV_fP9-DxA",
        "outputId": "276e34c7-616d-44e1-d07f-5f70704e38f9"
      },
      "source": [
        "y_pred_lm = bst.predict(x_test[f_to_use]) >= 0.21\n",
        "y_true_lm = y_test\n",
        "\n",
        "print(f1_score(y_pred_lm, y_true_lm))\n",
        "print(classification_report(y_true_lm, y_pred_lm))"
      ],
      "execution_count": 29,
      "outputs": [
        {
          "output_type": "stream",
          "text": [
            "0.4429019441703306\n",
            "              precision    recall  f1-score   support\n",
            "\n",
            "           0       0.95      0.91      0.93   1529168\n",
            "           1       0.39      0.52      0.44    165765\n",
            "\n",
            "    accuracy                           0.87   1694933\n",
            "   macro avg       0.67      0.71      0.69   1694933\n",
            "weighted avg       0.89      0.87      0.88   1694933\n",
            "\n"
          ],
          "name": "stdout"
        }
      ]
    },
    {
      "cell_type": "code",
      "metadata": {
        "colab": {
          "base_uri": "https://localhost:8080/",
          "height": 295
        },
        "id": "CohE1UGIHUdw",
        "outputId": "b9cbd239-24b6-4e9d-c164-7cd0083ca3de"
      },
      "source": [
        "logit_roc_auc = roc_auc_score(y_true_lm, bst.predict(x_test[f_to_use]))\n",
        "fpr, tpr, thresholds = roc_curve(y_true_lm, bst.predict(x_test[f_to_use]))\n",
        "plt.figure()\n",
        "plt.plot(fpr, tpr, label='Logistic Regression (area = %0.2f)' % logit_roc_auc)\n",
        "plt.plot([0, 1], [0, 1],'r--')\n",
        "plt.xlim([0.0, 1.0])\n",
        "plt.ylim([0.0, 1.05])\n",
        "plt.xlabel('False Positive Rate')\n",
        "plt.ylabel('True Positive Rate')\n",
        "plt.title('Receiver operating characteristic')\n",
        "plt.legend(loc=\"lower right\")\n",
        "plt.savefig('Log_ROC')\n",
        "plt.show()"
      ],
      "execution_count": 30,
      "outputs": [
        {
          "output_type": "display_data",
          "data": {
            "image/png": "[encoded data removed]",
            "text/plain": [
              "<Figure size 432x288 with 1 Axes>"
            ]
          },
          "metadata": {
            "needs_background": "light"
          }
        }
      ]
    },
    {
      "cell_type": "code",
      "metadata": {
        "id": "FrGJ9Zy8OFg_"
      },
      "source": [
        "y_p_value = bst.predict(x_test[f_to_use])"
      ],
      "execution_count": 31,
      "outputs": []
    },
    {
      "cell_type": "code",
      "metadata": {
        "colab": {
          "base_uri": "https://localhost:8080/",
          "height": 419
        },
        "id": "Qxl94ahUbBj1",
        "outputId": "ebcd24ce-6bfc-4f8d-cf1b-f07c9710f402"
      },
      "source": [
        ""
      ],
      "execution_count": 39,
      "outputs": [
        {
          "output_type": "execute_result",
          "data": {
            "text/html": [
              "<div>\n",
              "<style scoped>\n",
              "    .dataframe tbody tr th:only-of-type {\n",
              "        vertical-align: middle;\n",
              "    }\n",
              "\n",
              "    .dataframe tbody tr th {\n",
              "        vertical-align: top;\n",
              "    }\n",
              "\n",
              "    .dataframe thead th {\n",
              "        text-align: right;\n",
              "    }\n",
              "</style>\n",
              "<table border=\"1\" class=\"dataframe\">\n",
              "  <thead>\n",
              "    <tr style=\"text-align: right;\">\n",
              "      <th></th>\n",
              "      <th>index</th>\n",
              "      <th>threshold</th>\n",
              "    </tr>\n",
              "  </thead>\n",
              "  <tbody>\n",
              "    <tr>\n",
              "      <th>94282</th>\n",
              "      <td>94282</td>\n",
              "      <td>0.209988</td>\n",
              "    </tr>\n",
              "    <tr>\n",
              "      <th>94283</th>\n",
              "      <td>94283</td>\n",
              "      <td>0.209987</td>\n",
              "    </tr>\n",
              "    <tr>\n",
              "      <th>94284</th>\n",
              "      <td>94284</td>\n",
              "      <td>0.209985</td>\n",
              "    </tr>\n",
              "    <tr>\n",
              "      <th>94285</th>\n",
              "      <td>94285</td>\n",
              "      <td>0.209984</td>\n",
              "    </tr>\n",
              "    <tr>\n",
              "      <th>94286</th>\n",
              "      <td>94286</td>\n",
              "      <td>0.209982</td>\n",
              "    </tr>\n",
              "    <tr>\n",
              "      <th>...</th>\n",
              "      <td>...</td>\n",
              "      <td>...</td>\n",
              "    </tr>\n",
              "    <tr>\n",
              "      <th>108076</th>\n",
              "      <td>108076</td>\n",
              "      <td>0.180009</td>\n",
              "    </tr>\n",
              "    <tr>\n",
              "      <th>108077</th>\n",
              "      <td>108077</td>\n",
              "      <td>0.180008</td>\n",
              "    </tr>\n",
              "    <tr>\n",
              "      <th>108078</th>\n",
              "      <td>108078</td>\n",
              "      <td>0.180008</td>\n",
              "    </tr>\n",
              "    <tr>\n",
              "      <th>108079</th>\n",
              "      <td>108079</td>\n",
              "      <td>0.180003</td>\n",
              "    </tr>\n",
              "    <tr>\n",
              "      <th>108080</th>\n",
              "      <td>108080</td>\n",
              "      <td>0.180002</td>\n",
              "    </tr>\n",
              "  </tbody>\n",
              "</table>\n",
              "<p>13799 rows × 2 columns</p>\n",
              "</div>"
            ],
            "text/plain": [
              "         index  threshold\n",
              "94282    94282   0.209988\n",
              "94283    94283   0.209987\n",
              "94284    94284   0.209985\n",
              "94285    94285   0.209984\n",
              "94286    94286   0.209982\n",
              "...        ...        ...\n",
              "108076  108076   0.180009\n",
              "108077  108077   0.180008\n",
              "108078  108078   0.180008\n",
              "108079  108079   0.180003\n",
              "108080  108080   0.180002\n",
              "\n",
              "[13799 rows x 2 columns]"
            ]
          },
          "metadata": {},
          "execution_count": 39
        }
      ]
    },
    {
      "cell_type": "code",
      "metadata": {
        "colab": {
          "base_uri": "https://localhost:8080/",
          "height": 375
        },
        "id": "DeWokbS1JrtJ",
        "outputId": "f2017da7-2998-4046-b53f-f47167664e5e"
      },
      "source": [
        "from sklearn.metrics import accuracy_score\n",
        "accuracy_ls = []\n",
        "for thres in thresholds:\n",
        "  y_p = np.where(bst.predict(x_test[f_to_use])>thres,1,0)\n",
        "  accuracy_ls.append(accuracy_score(y_test, y_p, normalize = True))\n",
        "\n",
        "accuracy_df = pd.concat([pd.Series(thresholds), pd.Series(accuracy_ls)], axis = 1)\n",
        "accuracy_df.columns = ['threshold', 'accuracy']\n",
        "accuracy_df.sort_value('accuracy', ascending = False, inplace = True)"
      ],
      "execution_count": 32,
      "outputs": [
        {
          "output_type": "error",
          "ename": "KeyboardInterrupt",
          "evalue": "ignored",
          "traceback": [
            "\u001b[0;31m---------------------------------------------------------------------------\u001b[0m",
            "\u001b[0;31mKeyboardInterrupt\u001b[0m                         Traceback (most recent call last)",
            "\u001b[0;32m<ipython-input-32-0041da4acadc>\u001b[0m in \u001b[0;36m<module>\u001b[0;34m()\u001b[0m\n\u001b[1;32m      2\u001b[0m \u001b[0maccuracy_ls\u001b[0m \u001b[0;34m=\u001b[0m \u001b[0;34m[\u001b[0m\u001b[0;34m]\u001b[0m\u001b[0;34m\u001b[0m\u001b[0;34m\u001b[0m\u001b[0m\n\u001b[1;32m      3\u001b[0m \u001b[0;32mfor\u001b[0m \u001b[0mthres\u001b[0m \u001b[0;32min\u001b[0m \u001b[0mthresholds\u001b[0m\u001b[0;34m:\u001b[0m\u001b[0;34m\u001b[0m\u001b[0;34m\u001b[0m\u001b[0m\n\u001b[0;32m----> 4\u001b[0;31m   \u001b[0my_p\u001b[0m \u001b[0;34m=\u001b[0m \u001b[0mnp\u001b[0m\u001b[0;34m.\u001b[0m\u001b[0mwhere\u001b[0m\u001b[0;34m(\u001b[0m\u001b[0mbst\u001b[0m\u001b[0;34m.\u001b[0m\u001b[0mpredict\u001b[0m\u001b[0;34m(\u001b[0m\u001b[0mx_test\u001b[0m\u001b[0;34m[\u001b[0m\u001b[0mf_to_use\u001b[0m\u001b[0;34m]\u001b[0m\u001b[0;34m)\u001b[0m\u001b[0;34m>\u001b[0m\u001b[0mthres\u001b[0m\u001b[0;34m,\u001b[0m\u001b[0;36m1\u001b[0m\u001b[0;34m,\u001b[0m\u001b[0;36m0\u001b[0m\u001b[0;34m)\u001b[0m\u001b[0;34m\u001b[0m\u001b[0;34m\u001b[0m\u001b[0m\n\u001b[0m\u001b[1;32m      5\u001b[0m   \u001b[0maccuracy_ls\u001b[0m\u001b[0;34m.\u001b[0m\u001b[0mappend\u001b[0m\u001b[0;34m(\u001b[0m\u001b[0maccuracy_score\u001b[0m\u001b[0;34m(\u001b[0m\u001b[0my_test\u001b[0m\u001b[0;34m,\u001b[0m \u001b[0my_p\u001b[0m\u001b[0;34m,\u001b[0m \u001b[0mnormalize\u001b[0m \u001b[0;34m=\u001b[0m \u001b[0;32mTrue\u001b[0m\u001b[0;34m)\u001b[0m\u001b[0;34m)\u001b[0m\u001b[0;34m\u001b[0m\u001b[0;34m\u001b[0m\u001b[0m\n\u001b[1;32m      6\u001b[0m \u001b[0;34m\u001b[0m\u001b[0m\n",
            "\u001b[0;32m/usr/local/lib/python3.7/dist-packages/lightgbm/basic.py\u001b[0m in \u001b[0;36mpredict\u001b[0;34m(self, data, num_iteration, raw_score, pred_leaf, pred_contrib, data_has_header, is_reshape, **kwargs)\u001b[0m\n\u001b[1;32m   2201\u001b[0m         return predictor.predict(data, num_iteration,\n\u001b[1;32m   2202\u001b[0m                                  \u001b[0mraw_score\u001b[0m\u001b[0;34m,\u001b[0m \u001b[0mpred_leaf\u001b[0m\u001b[0;34m,\u001b[0m \u001b[0mpred_contrib\u001b[0m\u001b[0;34m,\u001b[0m\u001b[0;34m\u001b[0m\u001b[0;34m\u001b[0m\u001b[0m\n\u001b[0;32m-> 2203\u001b[0;31m                                  data_has_header, is_reshape)\n\u001b[0m\u001b[1;32m   2204\u001b[0m \u001b[0;34m\u001b[0m\u001b[0m\n\u001b[1;32m   2205\u001b[0m     \u001b[0;32mdef\u001b[0m \u001b[0mrefit\u001b[0m\u001b[0;34m(\u001b[0m\u001b[0mself\u001b[0m\u001b[0;34m,\u001b[0m \u001b[0mdata\u001b[0m\u001b[0;34m,\u001b[0m \u001b[0mlabel\u001b[0m\u001b[0;34m,\u001b[0m \u001b[0mdecay_rate\u001b[0m\u001b[0;34m=\u001b[0m\u001b[0;36m0.9\u001b[0m\u001b[0;34m,\u001b[0m \u001b[0;34m**\u001b[0m\u001b[0mkwargs\u001b[0m\u001b[0;34m)\u001b[0m\u001b[0;34m:\u001b[0m\u001b[0;34m\u001b[0m\u001b[0;34m\u001b[0m\u001b[0m\n",
            "\u001b[0;32m/usr/local/lib/python3.7/dist-packages/lightgbm/basic.py\u001b[0m in \u001b[0;36mpredict\u001b[0;34m(self, data, num_iteration, raw_score, pred_leaf, pred_contrib, data_has_header, is_reshape)\u001b[0m\n\u001b[1;32m    465\u001b[0m             \u001b[0mpreds\u001b[0m\u001b[0;34m,\u001b[0m \u001b[0mnrow\u001b[0m \u001b[0;34m=\u001b[0m \u001b[0mself\u001b[0m\u001b[0;34m.\u001b[0m\u001b[0m__pred_for_csc\u001b[0m\u001b[0;34m(\u001b[0m\u001b[0mdata\u001b[0m\u001b[0;34m,\u001b[0m \u001b[0mnum_iteration\u001b[0m\u001b[0;34m,\u001b[0m \u001b[0mpredict_type\u001b[0m\u001b[0;34m)\u001b[0m\u001b[0;34m\u001b[0m\u001b[0;34m\u001b[0m\u001b[0m\n\u001b[1;32m    466\u001b[0m         \u001b[0;32melif\u001b[0m \u001b[0misinstance\u001b[0m\u001b[0;34m(\u001b[0m\u001b[0mdata\u001b[0m\u001b[0;34m,\u001b[0m \u001b[0mnp\u001b[0m\u001b[0;34m.\u001b[0m\u001b[0mndarray\u001b[0m\u001b[0;34m)\u001b[0m\u001b[0;34m:\u001b[0m\u001b[0;34m\u001b[0m\u001b[0;34m\u001b[0m\u001b[0m\n\u001b[0;32m--> 467\u001b[0;31m             \u001b[0mpreds\u001b[0m\u001b[0;34m,\u001b[0m \u001b[0mnrow\u001b[0m \u001b[0;34m=\u001b[0m \u001b[0mself\u001b[0m\u001b[0;34m.\u001b[0m\u001b[0m__pred_for_np2d\u001b[0m\u001b[0;34m(\u001b[0m\u001b[0mdata\u001b[0m\u001b[0;34m,\u001b[0m \u001b[0mnum_iteration\u001b[0m\u001b[0;34m,\u001b[0m \u001b[0mpredict_type\u001b[0m\u001b[0;34m)\u001b[0m\u001b[0;34m\u001b[0m\u001b[0;34m\u001b[0m\u001b[0m\n\u001b[0m\u001b[1;32m    468\u001b[0m         \u001b[0;32melif\u001b[0m \u001b[0misinstance\u001b[0m\u001b[0;34m(\u001b[0m\u001b[0mdata\u001b[0m\u001b[0;34m,\u001b[0m \u001b[0mlist\u001b[0m\u001b[0;34m)\u001b[0m\u001b[0;34m:\u001b[0m\u001b[0;34m\u001b[0m\u001b[0;34m\u001b[0m\u001b[0m\n\u001b[1;32m    469\u001b[0m             \u001b[0;32mtry\u001b[0m\u001b[0;34m:\u001b[0m\u001b[0;34m\u001b[0m\u001b[0;34m\u001b[0m\u001b[0m\n",
            "\u001b[0;32m/usr/local/lib/python3.7/dist-packages/lightgbm/basic.py\u001b[0m in \u001b[0;36m__pred_for_np2d\u001b[0;34m(self, mat, num_iteration, predict_type)\u001b[0m\n\u001b[1;32m    554\u001b[0m             \u001b[0;32mreturn\u001b[0m \u001b[0mpreds\u001b[0m\u001b[0;34m,\u001b[0m \u001b[0mnrow\u001b[0m\u001b[0;34m\u001b[0m\u001b[0;34m\u001b[0m\u001b[0m\n\u001b[1;32m    555\u001b[0m         \u001b[0;32melse\u001b[0m\u001b[0;34m:\u001b[0m\u001b[0;34m\u001b[0m\u001b[0;34m\u001b[0m\u001b[0m\n\u001b[0;32m--> 556\u001b[0;31m             \u001b[0;32mreturn\u001b[0m \u001b[0minner_predict\u001b[0m\u001b[0;34m(\u001b[0m\u001b[0mmat\u001b[0m\u001b[0;34m,\u001b[0m \u001b[0mnum_iteration\u001b[0m\u001b[0;34m,\u001b[0m \u001b[0mpredict_type\u001b[0m\u001b[0;34m)\u001b[0m\u001b[0;34m\u001b[0m\u001b[0;34m\u001b[0m\u001b[0m\n\u001b[0m\u001b[1;32m    557\u001b[0m \u001b[0;34m\u001b[0m\u001b[0m\n\u001b[1;32m    558\u001b[0m     \u001b[0;32mdef\u001b[0m \u001b[0m__pred_for_csr\u001b[0m\u001b[0;34m(\u001b[0m\u001b[0mself\u001b[0m\u001b[0;34m,\u001b[0m \u001b[0mcsr\u001b[0m\u001b[0;34m,\u001b[0m \u001b[0mnum_iteration\u001b[0m\u001b[0;34m,\u001b[0m \u001b[0mpredict_type\u001b[0m\u001b[0;34m)\u001b[0m\u001b[0;34m:\u001b[0m\u001b[0;34m\u001b[0m\u001b[0;34m\u001b[0m\u001b[0m\n",
            "\u001b[0;32m/usr/local/lib/python3.7/dist-packages/lightgbm/basic.py\u001b[0m in \u001b[0;36minner_predict\u001b[0;34m(mat, num_iteration, predict_type, preds)\u001b[0m\n\u001b[1;32m    536\u001b[0m                 \u001b[0mc_str\u001b[0m\u001b[0;34m(\u001b[0m\u001b[0mself\u001b[0m\u001b[0;34m.\u001b[0m\u001b[0mpred_parameter\u001b[0m\u001b[0;34m)\u001b[0m\u001b[0;34m,\u001b[0m\u001b[0;34m\u001b[0m\u001b[0;34m\u001b[0m\u001b[0m\n\u001b[1;32m    537\u001b[0m                 \u001b[0mctypes\u001b[0m\u001b[0;34m.\u001b[0m\u001b[0mbyref\u001b[0m\u001b[0;34m(\u001b[0m\u001b[0mout_num_preds\u001b[0m\u001b[0;34m)\u001b[0m\u001b[0;34m,\u001b[0m\u001b[0;34m\u001b[0m\u001b[0;34m\u001b[0m\u001b[0m\n\u001b[0;32m--> 538\u001b[0;31m                 preds.ctypes.data_as(ctypes.POINTER(ctypes.c_double))))\n\u001b[0m\u001b[1;32m    539\u001b[0m             \u001b[0;32mif\u001b[0m \u001b[0mn_preds\u001b[0m \u001b[0;34m!=\u001b[0m \u001b[0mout_num_preds\u001b[0m\u001b[0;34m.\u001b[0m\u001b[0mvalue\u001b[0m\u001b[0;34m:\u001b[0m\u001b[0;34m\u001b[0m\u001b[0;34m\u001b[0m\u001b[0m\n\u001b[1;32m    540\u001b[0m                 \u001b[0;32mraise\u001b[0m \u001b[0mValueError\u001b[0m\u001b[0;34m(\u001b[0m\u001b[0;34m\"Wrong length for predict results\"\u001b[0m\u001b[0;34m)\u001b[0m\u001b[0;34m\u001b[0m\u001b[0;34m\u001b[0m\u001b[0m\n",
            "\u001b[0;31mKeyboardInterrupt\u001b[0m: "
          ]
        }
      ]
    },
    {
      "cell_type": "code",
      "metadata": {
        "id": "9hNdAQAjMbrR"
      },
      "source": [
        "accuracy_df"
      ],
      "execution_count": null,
      "outputs": []
    },
    {
      "cell_type": "code",
      "metadata": {
        "colab": {
          "base_uri": "https://localhost:8080/",
          "height": 1000
        },
        "id": "AQIRalVCAH84",
        "outputId": "fec66635-3f0f-4569-edb5-2ced03f421c0"
      },
      "source": [
        "lgb.plot_importance(bst, figsize=(9,20))"
      ],
      "execution_count": 124,
      "outputs": [
        {
          "output_type": "execute_result",
          "data": {
            "text/plain": [
              "<matplotlib.axes._subplots.AxesSubplot at 0x7f0370c43b90>"
            ]
          },
          "metadata": {},
          "execution_count": 124
        },
        {
          "output_type": "display_data",
          "data": {
            "image/png": "[encoded data removed]",
            "text/plain": [
              "<Figure size 648x1440 with 1 Axes>"
            ]
          },
          "metadata": {
            "needs_background": "light"
          }
        }
      ]
    },
    {
      "cell_type": "code",
      "metadata": {
        "id": "43W36bGAATnG"
      },
      "source": [
        ""
      ],
      "execution_count": null,
      "outputs": []
    }
  ]
}